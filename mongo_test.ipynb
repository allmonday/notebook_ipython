{
 "metadata": {
  "name": "",
  "signature": "sha256:908e425627f08168d3c15b9fc5a7abcd9c44efc88c1b768f5eb2f27f91f37c23"
 },
 "nbformat": 3,
 "nbformat_minor": 0,
 "worksheets": [
  {
   "cells": [
    {
     "cell_type": "code",
     "collapsed": false,
     "input": [
      "'''insert time info'''\n",
      "from pymongo import MongoClient\n",
      "from datetime import datetime\n",
      "\n",
      "print(datetime.now())\n",
      "t = MongoClient()['test'].blog\n",
      "t.insert({'name':'tangkikodo', 'date': datetime.now()})"
     ],
     "language": "python",
     "metadata": {},
     "outputs": [
      {
       "output_type": "stream",
       "stream": "stdout",
       "text": [
        "2014-07-08 13:51:50.671233\n"
       ]
      },
      {
       "metadata": {},
       "output_type": "pyout",
       "prompt_number": 4,
       "text": [
        "ObjectId('53bb86f671f1a44cc9984916')"
       ]
      }
     ],
     "prompt_number": 4
    },
    {
     "cell_type": "code",
     "collapsed": false,
     "input": [],
     "language": "python",
     "metadata": {},
     "outputs": []
    }
   ],
   "metadata": {}
  }
 ]
}