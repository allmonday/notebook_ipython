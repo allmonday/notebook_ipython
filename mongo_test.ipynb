{
 "metadata": {
  "name": "",
  "signature": "sha256:70192a87bc524575bff093d79b5d2bc7a522e9b74c776f3a5a5d5d4baf0fa294"
 },
 "nbformat": 3,
 "nbformat_minor": 0,
 "worksheets": [
  {
   "cells": [
    {
     "cell_type": "code",
     "collapsed": false,
     "input": [
      "'''insert time info'''\n",
      "from pymongo import MongoClient\n",
      "from dateutil.parser import parse\n",
      "from datetime import date\n",
      "import re\n",
      "\n",
      "text = str(date.today())\n",
      "date =  parse(re.sub(r'[\u5e74\u6708\u65e5]', r'-', text)).timestamp()* 1000\n",
      "print(date)\n",
      "\n",
      "\n",
      "t = MongoClient()['test'].blog\n",
      "t.insert({'name':'tangkikodo2', 'date':date})"
     ],
     "language": "python",
     "metadata": {},
     "outputs": [
      {
       "output_type": "stream",
       "stream": "stdout",
       "text": [
        "1404835200000.0\n"
       ]
      },
      {
       "metadata": {},
       "output_type": "pyout",
       "prompt_number": 5,
       "text": [
        "ObjectId('53bcaddb71f1a44cc9984917')"
       ]
      }
     ],
     "prompt_number": 5
    },
    {
     "cell_type": "code",
     "collapsed": false,
     "input": [
      "'''insert time info'''\n",
      "from pymongo import MongoClient\n",
      "import datetime\n",
      "\n",
      "t = MongoClient()['test'].blog\n",
      "q = t.find_one({'name':'tangkikodo2'})\n",
      "stamp =q['date']\n",
      "\n",
      "print(    datetime.datetime.fromtimestamp(\n",
      "        int(stamp/1000)\n",
      "    ).strftime('%Y-%m-%d %H:%M:%S')\n",
      ")\n"
     ],
     "language": "python",
     "metadata": {},
     "outputs": [
      {
       "output_type": "stream",
       "stream": "stdout",
       "text": [
        "2014-07-09 00:00:00\n"
       ]
      }
     ],
     "prompt_number": 9
    },
    {
     "cell_type": "code",
     "collapsed": false,
     "input": [
      " from pymongo import MongoClient\n",
      "import datetime\n",
      "\n",
      "t = MongoClient()['test'].blog\n",
      "q = t.find_one({'name':'tangkikodo2'})\n",
      "created = datetime.datetime.fromtimestamp(int(q['date']/1000))\n",
      "date = datetime.datetime(*created.timetuple()[:-6])\n",
      "print(date)"
     ],
     "language": "python",
     "metadata": {},
     "outputs": [
      {
       "output_type": "stream",
       "stream": "stdout",
       "text": [
        "2014-07-09 00:00:00\n"
       ]
      }
     ],
     "prompt_number": 11
    },
    {
     "cell_type": "code",
     "collapsed": false,
     "input": [
      "from pymongo import MongoClient\n",
      "from dateutil.parser import parse\n",
      "from datetime import date\n",
      "import re\n",
      "\n",
      "dates = ['2014-06-10','2014-07-04','2014-07-05' ]\n",
      "for date in dates:\n",
      "    print(parse(date).timestamp()* 1000)"
     ],
     "language": "python",
     "metadata": {},
     "outputs": [
      {
       "output_type": "stream",
       "stream": "stdout",
       "text": [
        "1402329600000.0\n",
        "1404403200000.0\n",
        "1404489600000.0\n"
       ]
      }
     ],
     "prompt_number": 13
    },
    {
     "cell_type": "code",
     "collapsed": false,
     "input": [],
     "language": "python",
     "metadata": {},
     "outputs": []
    }
   ],
   "metadata": {}
  }
 ]
}