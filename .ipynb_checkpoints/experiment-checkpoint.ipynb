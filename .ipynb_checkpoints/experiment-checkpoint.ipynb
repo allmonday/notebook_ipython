{
 "metadata": {
  "name": "",
  "signature": "sha256:62bd9a52e03b3e04a1f7665111996ed79fa3eff4cab9e78f465cc64446f1794d"
 },
 "nbformat": 3,
 "nbformat_minor": 0,
 "worksheets": [
  {
   "cells": [
    {
     "cell_type": "code",
     "collapsed": false,
     "input": [
      "from pymongo import MongoClient\n",
      "\n",
      "p_item = MongoClient()['test'].product_item\n",
      "\n",
      "r = p_item.update({'product_id': 1111, \n",
      "                   'price': {'$ne':23}, #update only if: date is newer & price is different\n",
      "                   'update':{'$lt':1404489700000}\n",
      "                   },{'$set':{'price': 23, 'update':1404489700000}})\n",
      "\n",
      "if r['updatedExisting']:\n",
      "    print('has been changed')\n",
      "else:\n",
      "    print('no change')"
     ],
     "language": "python",
     "metadata": {},
     "outputs": [
      {
       "output_type": "stream",
       "stream": "stdout",
       "text": [
        "no change\n"
       ]
      }
     ],
     "prompt_number": 4
    },
    {
     "cell_type": "code",
     "collapsed": false,
     "input": [
      "from pymongo import MongoClient\n",
      "\n",
      "p_item = MongoClient()['test'].product_item\n",
      "\n",
      "r = p_item.find_and_modify({'product_id': 1111, \n",
      "                   'price': {'$ne':21}},{'$set':{'price': 21}})\n",
      "\n",
      "print(r)"
     ],
     "language": "python",
     "metadata": {},
     "outputs": [
      {
       "output_type": "stream",
       "stream": "stdout",
       "text": [
        "{'product_id': 1111, '_id': ObjectId('53bcd876ce7c89999ea3e96c'), 'price': 23}\n"
       ]
      }
     ],
     "prompt_number": 7
    },
    {
     "cell_type": "code",
     "collapsed": false,
     "input": [
      "from pymongo import MongoClient\n",
      "\n",
      "p_item = MongoClient()['test'].product_item\n",
      "oh = {'a':'a', 'b':'b'}\n",
      "ns = 'taobao'\n",
      "if ns == 'taobao':\n",
      "    ns = ['taobao', 'tmall']\n",
      "\n",
      "r = p_item.update({'source':{'$in':ns}}, oh, upsert=True)\n"
     ],
     "language": "python",
     "metadata": {},
     "outputs": [],
     "prompt_number": 10
    },
    {
     "cell_type": "code",
     "collapsed": false,
     "input": [],
     "language": "python",
     "metadata": {},
     "outputs": []
    }
   ],
   "metadata": {}
  }
 ]
}