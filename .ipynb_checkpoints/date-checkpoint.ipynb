{
 "metadata": {
  "name": "",
  "signature": "sha256:bfa3e65a5c01d1273fc236ea3e128adb9c2e5a520c355846986a27ffdec47c32"
 },
 "nbformat": 3,
 "nbformat_minor": 0,
 "worksheets": []
}