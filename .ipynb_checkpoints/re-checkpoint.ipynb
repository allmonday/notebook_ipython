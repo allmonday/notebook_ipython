{
 "metadata": {
  "name": "",
  "signature": "sha256:82d723e90728d1cd4e82e212bcfec7f7e8ba1fe6f2f0d083103d2c111b5f6942"
 },
 "nbformat": 3,
 "nbformat_minor": 0,
 "worksheets": [
  {
   "cells": [
    {
     "cell_type": "code",
     "collapsed": false,
     "input": [
      "import re\n",
      "\n",
      "base, collector = 'amazon.productReview'.split('.')\n",
      "print(collector)\n",
      "collector = re.sub('(.)([A-Z][a-z]+)', r'\\1_\\2', collector)\n",
      "print('1',collector)\n",
      "collector = re.sub('([a-z0-9])([A-Z])', r'\\1_\\2', collector).lower()\n",
      "print('2',collector)\n",
      "collector = '_'.join([base, collector, 'extractor', 'job'])\n",
      "print(collector)\n",
      "next_job = '.'.join(['etl.jobs.extractors', base, collector]) \n",
      "print(next_job)"
     ],
     "language": "python",
     "metadata": {},
     "outputs": [
      {
       "output_type": "stream",
       "stream": "stdout",
       "text": [
        "productReview\n",
        "1 product_Review\n",
        "2 product_review\n",
        "amazon_product_review_extractor_job\n",
        "etl.jobs.extractors.amazon.amazon_product_review_extractor_job\n"
       ]
      }
     ],
     "prompt_number": 28
    },
    {
     "cell_type": "code",
     "collapsed": false,
     "input": [],
     "language": "python",
     "metadata": {},
     "outputs": [
      {
       "output_type": "stream",
       "stream": "stdout",
       "text": [
        "t hi s i s g oo d\n"
       ]
      }
     ],
     "prompt_number": 11
    },
    {
     "cell_type": "code",
     "collapsed": false,
     "input": [],
     "language": "python",
     "metadata": {},
     "outputs": []
    }
   ],
   "metadata": {}
  }
 ]
}