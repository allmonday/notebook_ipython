{
 "metadata": {
  "name": "",
  "signature": "sha256:9b7e23af9df4c16ac4fb84cc3887cf1607bd838584af04f4ff2df0a062dc3e38"
 },
 "nbformat": 3,
 "nbformat_minor": 0,
 "worksheets": [
  {
   "cells": [
    {
     "cell_type": "code",
     "collapsed": false,
     "input": [
      "from pymongo import MongoClient\n",
      "from bson.objectid import ObjectId\n",
      "import pandas as pd\n",
      "\n",
      "#####################\n",
      "#fake data\n",
      "#####################\n",
      "\n",
      "prices = {\n",
      "'freco0': {'price': 21, 'unit': 400},\n",
      "'freco1': {'price': 23, 'unit': 500},\n",
      "'freco2': {'price': 11, 'unit': 200},\n",
      "'freco3': {'price': 25, 'unit': 100},\n",
      "}\n",
      "\n",
      "prods = MongoClient('192.168.1.202')['dev'].products \n",
      "query = prods.find_one({'_id':ObjectId(\"53bce82e8ddf879f99703ee9\")})\n",
      "prices = query['_unitPrice']\n",
      "\n",
      "#print(prices)\n",
      "frame = pd.DataFrame(prices)\n",
      "frame = frame.T\n",
      "frame.columns = ['weight', 'price']\n",
      "print(frame.price.astype('int32').describe())"
     ],
     "language": "python",
     "metadata": {},
     "outputs": [
      {
       "output_type": "stream",
       "stream": "stdout",
       "text": [
        "count     55.000000\n",
        "mean     678.090909\n",
        "std      169.260075\n",
        "min      140.000000\n",
        "25%      646.000000\n",
        "50%      700.000000\n",
        "75%      782.500000\n",
        "max      995.000000\n",
        "dtype: float64\n"
       ]
      }
     ],
     "prompt_number": 46
    },
    {
     "cell_type": "code",
     "collapsed": false,
     "input": [
      "import base64\n",
      "\n",
      "def base64_encode(text):\n",
      "    return base64.b64encode((text if isinstance(text, str) else str(text)).encode()).decode()\n",
      "\n",
      "print(base64_encode(['taobao', '18627293604']))"
     ],
     "language": "python",
     "metadata": {},
     "outputs": [
      {
       "output_type": "stream",
       "stream": "stdout",
       "text": [
        "Wyd0YW9iYW8nLCAnMTg2MjcyOTM2MDQnXQ==\n"
       ]
      }
     ],
     "prompt_number": 34
    },
    {
     "cell_type": "code",
     "collapsed": false,
     "input": [
      "%matplotlib inline\n",
      "from pymongo import MongoClient                                                             \n",
      "from bson.objectid import ObjectId                                                          \n",
      "import pandas as pd      \n",
      "import matplotlib.pyplot as plt\n",
      "\n",
      "                                                                                            \n",
      "###############################################                                             \n",
      "# setUp                                                                                     \n",
      "###############################################                                             \n",
      "                                                                                            \n",
      "prods = MongoClient('192.168.1.202')['dev'].products                                        \n",
      "query = prods.find_one({'_id':ObjectId(\"53bce82e8ddf879f99703ee9\")})                        \n",
      "prices = query['_unitPrice']                                                                \n",
      "                                                                                            \n",
      "def find_limits(describe, n = 1.5):                                                         \n",
      "    '''find upper and lower limits from five number'''                                      \n",
      "    IQR = describe['75%'] - describe['25%']                                                 \n",
      "    delta = n * IQR                                                                         \n",
      "    upper_limit = describe['75%'] + delta                                                   \n",
      "    lower_limit = describe['25%'] - delta                                                   \n",
      "    return lower_limit, upper_limit                                                         \n",
      "                                                                                            \n",
      "                                                                                            \n",
      "                                                                                            \n",
      "#print(prices)                                                                              \n",
      "frame = pd.DataFrame(prices)                                                                \n",
      "frame = frame.T                                                                             \n",
      "frame.columns = ['weight', 'price']                                                         \n",
      "frame.price = frame.price.astype('int32')                                                   \n",
      "de = frame.price.describe()                                                                 \n",
      "l, u = find_limits(de)                                                                      \n",
      "frame.price.hist()\n",
      "plt.show()"
     ],
     "language": "python",
     "metadata": {},
     "outputs": [
      {
       "metadata": {},
       "output_type": "display_data",
       "png": "[encoded data removed]",
       "text": [
        "<matplotlib.figure.Figure at 0x7f79eaf24080>"
       ]
      }
     ],
     "prompt_number": 7
    }
   ],
   "metadata": {}
  }
 ]
}