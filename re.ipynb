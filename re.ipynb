{
 "metadata": {
  "name": "",
  "signature": "sha256:3118bf8e67473fe98672c7c4efaf6225bc4fdcd5c1ee5a177c5fc6aa6c9c4339"
 },
 "nbformat": 3,
 "nbformat_minor": 0,
 "worksheets": [
  {
   "cells": [
    {
     "cell_type": "code",
     "collapsed": false,
     "input": [
      "import re\n",
      "\n",
      "base, collector = 'amazon.productReview'.split('.')\n",
      "print(collector)\n",
      "collector = re.sub('(.)([A-Z][a-z]+)', r'\\1_\\2', collector)\n",
      "print('1',collector)\n",
      "collector = re.sub('([a-z0-9])([A-Z])', r'\\1_\\2', collector).lower()\n",
      "print('2',collector)\n",
      "collector = '_'.join([base, collector, 'extractor', 'job'])\n",
      "print(collector)\n",
      "next_job = '.'.join(['etl.jobs.extractors', base, collector]) \n",
      "print(next_job)"
     ],
     "language": "python",
     "metadata": {},
     "outputs": [
      {
       "output_type": "stream",
       "stream": "stdout",
       "text": [
        "productReview\n",
        "1 product_Review\n",
        "2 product_review\n",
        "amazon_product_review_extractor_job\n",
        "etl.jobs.extractors.amazon.amazon_product_review_extractor_job\n"
       ]
      }
     ],
     "prompt_number": 28
    },
    {
     "cell_type": "code",
     "collapsed": false,
     "input": [
      "import re\n",
      "brand_name = \"\u8377\u5170\u725b\u680f (Nutrilon)\"\n",
      "brand_name = re.sub(r'\u7f8e\u7d20\u4f73\u513f \\(Friso\\)', r'\u6d77\u79be\u513f (Hero Baby)', brand_name)\n",
      "brand_name = re.sub(r'\u8377\u5170\u725b\u680f \\(Nutrilon\\)', r'\u8bfa\u4f18\u80fd (Nutrilon)', brand_name)\n",
      "print(brand_name)"
     ],
     "language": "python",
     "metadata": {},
     "outputs": [
      {
       "output_type": "stream",
       "stream": "stdout",
       "text": [
        "\u8bfa\u4f18\u80fd (Nutrilon)\n"
       ]
      }
     ],
     "prompt_number": 4
    },
    {
     "cell_type": "code",
     "collapsed": false,
     "input": [
      "import re\n",
      "\n",
      "print(re.sub(r' \\(\\)', r'', '%s (%s)' % ('\u7f8e\u7d20\u4f73\u513f', 'Friso')))"
     ],
     "language": "python",
     "metadata": {},
     "outputs": [
      {
       "output_type": "stream",
       "stream": "stdout",
       "text": [
        "\u7f8e\u7d20\u4f73\u513f (Friso)\n"
       ]
      }
     ],
     "prompt_number": 5
    },
    {
     "cell_type": "code",
     "collapsed": false,
     "input": [
      "import re\n",
      "sentence = \"800\u79ef\u5206\u6362\u8d2d\u7684\u5f88\u597d~\u7269\u6d41\u8fc5\u901f~\u7ed9    \u5c0f\u5b9d\u63622\u6bb5\u3002\"\n",
      "sents = re.split(r',|\uff0c|\uff01|\u3002|\\s+', sentence)\n",
      "print(sents)"
     ],
     "language": "python",
     "metadata": {},
     "outputs": [
      {
       "output_type": "stream",
       "stream": "stdout",
       "text": [
        "['800\u79ef\u5206\u6362\u8d2d\u7684\u5f88\u597d~\u7269\u6d41\u8fc5\u901f~\u7ed9', '\u5c0f\u5b9d\u63622\u6bb5', '']\n"
       ]
      }
     ],
     "prompt_number": 10
    },
    {
     "cell_type": "code",
     "collapsed": false,
     "input": [],
     "language": "python",
     "metadata": {},
     "outputs": []
    }
   ],
   "metadata": {}
  }
 ]
}