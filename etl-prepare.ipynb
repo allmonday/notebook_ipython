{
 "metadata": {
  "name": "",
  "signature": "sha256:5dfb4049411eb734dc6d1b6c8aaaabfb5487d6597e8972e9049868cd6740f664"
 },
 "nbformat": 3,
 "nbformat_minor": 0,
 "worksheets": [
  {
   "cells": [
    {
     "cell_type": "code",
     "collapsed": false,
     "input": [
      "''' cra-dev -> webpages -> taobaoSold -> tradeNum'''\n",
      "from pymongo import MongoClient\n",
      "import gzip\n",
      "\n",
      "cra_webpages = MongoClient()['cra-dev'].webpages\n",
      "\n",
      "query = cra_webpages.find_one({'collected.data.route':'taobao.productSold'})\n",
      "\n",
      "body = query['crawled']['data']['body']\n",
      "try:\n",
      "    body = gzip.decompress(body).decode()\n",
      "except:\n",
      "    body = gzip.decompress(body).decode('gb18030')\n",
      "print(body)"
     ],
     "language": "python",
     "metadata": {},
     "outputs": []
    },
    {
     "cell_type": "code",
     "collapsed": false,
     "input": [
      "''' cra-dev -> webpages -> taobaoProductList -> '''\n",
      "from pymongo import MongoClient\n",
      "from bson.objectid import ObjectId\n",
      "import gzip\n",
      "import json\n",
      "\n",
      "cra_webpages = MongoClient()['cra-dev'].webpages\n",
      "\n",
      "#query = cra_webpages.find_one({'collected.data.route':'taobao.productList'})\n",
      "query = cra_webpages.find_one({'_id':ObjectId('53bcf2eca0c504d6056abf55')})\n",
      "\n",
      "body = query['crawled']['data']['body']\n",
      "try:\n",
      "    body = gzip.decompress(body).decode()\n",
      "except:\n",
      "    body = gzip.decompress(body).decode('gb18030')\n",
      "\n",
      "body = json.loads(body)\n",
      "print(body['itemList'][0])  #show productlist's details info"
     ],
     "language": "python",
     "metadata": {},
     "outputs": []
    },
    {
     "cell_type": "code",
     "collapsed": false,
     "input": [
      "'''\n",
      "unique index keys:\n",
      "    source\n",
      "    product_id\n",
      "    price\n",
      "things we need to update:\n",
      "    price\n",
      "    unitprice\n",
      "    sales\n",
      "'''\n"
     ],
     "language": "python",
     "metadata": {},
     "outputs": []
    },
    {
     "cell_type": "code",
     "collapsed": false,
     "input": [
      "data = [\n",
      "{'price': '21.2', 'count': '22'},\n",
      "{'price': '23.1', 'count': '12'},\n",
      "]\n",
      "for k in data:\n",
      "    k['price'] = float(k['price'])\n",
      "    k['count'] = int(k['count'])\n",
      "print(data)"
     ],
     "language": "python",
     "metadata": {},
     "outputs": []
    },
    {
     "cell_type": "code",
     "collapsed": false,
     "input": [
      "float('1.2')"
     ],
     "language": "python",
     "metadata": {},
     "outputs": []
    },
    {
     "cell_type": "code",
     "collapsed": false,
     "input": [
      "''' cra-dev -> webpages -> jd_productList '''\n",
      "from pymongo import MongoClient\n",
      "import gzip\n",
      "\n",
      "cra_webpages = MongoClient()['cra-dev'].webpages\n",
      "\n",
      "query = cra_webpages.find_one({'collected.data.route':'yhd.productList'})\n",
      "\n",
      "body = query['crawled']['data']['body']\n",
      "try:\n",
      "    body = gzip.decompress(body).decode()\n",
      "except:\n",
      "    body = gzip.decompress(body).decode('gb18030')\n",
      "print(body)"
     ],
     "language": "python",
     "metadata": {},
     "outputs": []
    },
    {
     "cell_type": "code",
     "collapsed": false,
     "input": [
      "import yaml\n",
      "FILE = '/home/caigen/Documents/Caigen100/nlp/src/caigen/nlp/utils/logic_tree.yml'\n",
      "#target = yaml.load(open(FILE, encoding='utf-8'))\n",
      "content = open(FILE, 'r').readlines()\n",
      "for line in content:\n",
      "    if '#' in line:\n",
      "        continue\n",
      "    elif 'beer' in line:\n",
      "        break\n",
      "    elif line == '':\n",
      "        continue\n",
      "    else:\n",
      "        print(line)\n",
      "    \n",
      "\n",
      "\n"
     ],
     "language": "python",
     "metadata": {},
     "outputs": []
    },
    {
     "cell_type": "code",
     "collapsed": false,
     "input": [
      "import yaml\n",
      "FILE = '/home/caigen/Documents/Caigen100/nlp/src/caigen/nlp/utils/logic_tree.yml'\n",
      "target = yaml.load(open(FILE, encoding='utf-8'))\n",
      "target.pop('beer')\n",
      "print(target)\n",
      "with open('test.yml', 'w') as f:\n",
      "    f.write('formula:\\n')\n",
      "    for k, v in "
     ],
     "language": "python",
     "metadata": {},
     "outputs": []
    },
    {
     "cell_type": "code",
     "collapsed": false,
     "input": [
      "from pyquery import PyQuery\n",
      "from lxml import etree\n",
      "import gzip\n",
      "from pymongo import MongoClient\n",
      "import html.parser\n",
      "from pyquery import PyQuery\n",
      "html_parser = html.parser.HTMLParser()\n",
      "import re\n",
      "\n",
      "wpgs = MongoClient()['cra-dev'].webpages\n",
      "row = wpgs.find_one({'collected.data.route':'yhd.productList'})\n",
      "\n",
      "def extract_body( doc):\n",
      "    body = doc['crawled']['data']['body']\n",
      "    if isinstance(body, bytes):\n",
      "        try:\n",
      "            body = gzip.decompress(body).decode()\n",
      "        except UnicodeDecodeError:\n",
      "            body = gzip.decompress(body).decode('gb18030')\n",
      "    return html_parser.unescape(body)\n",
      "\n",
      "\n",
      "def extract_body_etree( doc):\n",
      "    \"\"\"generate etree object and use xpath\"\"\"\n",
      "    return etree.HTML(extract_body(doc))\n",
      "\n",
      "\n",
      "def extract_body_pyquery(doc):\n",
      "    \"\"\"make PyQuery Object\"\"\"\n",
      "    return PyQuery(extract_body(doc))\n",
      "\n",
      "#tree = extract_body_etree(row)\n",
      "\n",
      "\n",
      "#\n",
      "print(row['collected']['data']['uri'])\n",
      "d = extract_body_pyquery(row)\n",
      "prods = d(\"div.mod_search_list ul#itemSearchList li div.search_item_box\")\n",
      "for i, prod in enumerate(prods):\n",
      "    print(prods.eq(i).find('a.search_prod_img').attr('pmid'))\n",
      "    print(prods.eq(i).find('div.pricebox span').attr('yhdprice'))\n",
      "    #print(prods.eq(i).find('div.pricebox span').text())\n",
      "    \n"
     ],
     "language": "python",
     "metadata": {},
     "outputs": [
      {
       "output_type": "stream",
       "stream": "stdout",
       "text": [
        "http://www.yhd.com/ctg/s2/c18225-0-59802/\n",
        "26949330"
       ]
      },
      {
       "output_type": "stream",
       "stream": "stdout",
       "text": [
        "\n",
        "228\n",
        "27772751\n",
        "455.6\n",
        "32542323\n",
        "682.5\n",
        "32030952\n",
        "1362\n",
        "1231905\n",
        "388\n",
        "2090101\n",
        "210\n",
        "3969976\n",
        "420\n",
        "4072488\n",
        "840\n",
        "3969980\n",
        "1260\n",
        "9972844\n",
        "220\n",
        "10675893\n",
        "440\n",
        "20307176\n",
        "880\n",
        "20899000\n",
        "1320\n",
        "10323252\n",
        "235\n",
        "1135181\n",
        "297\n",
        "32434175\n",
        "1782\n",
        "10323230\n",
        "205\n",
        "31555711\n",
        "676\n",
        "25646725\n",
        "199\n",
        "26227426\n",
        "358\n",
        "31555770\n",
        "894\n",
        "2888087\n",
        "249.5\n",
        "27887145"
       ]
      },
      {
       "output_type": "stream",
       "stream": "stdout",
       "text": [
        "\n",
        "499\n",
        "10323239\n",
        "325\n",
        "22928604\n",
        "375\n",
        "24534696\n",
        "840\n",
        "3973901\n",
        "249\n",
        "15362508\n",
        "498\n",
        "27159301\n",
        "1494\n",
        "27887359\n",
        "440\n",
        "2888107\n",
        "220\n",
        "19263905\n",
        "135\n",
        "4608510\n",
        "298\n",
        "19198870\n",
        "330\n",
        "1166233\n",
        "165\n",
        "27159464\n",
        "990\n",
        "1023609\n",
        "159\n",
        "27159394\n",
        "318\n",
        "27159425\n",
        "954"
       ]
      },
      {
       "output_type": "stream",
       "stream": "stdout",
       "text": [
        "\n",
        "1231904\n",
        "176\n",
        "18232740\n",
        "199\n",
        "18433591\n",
        "245\n",
        "71132\n",
        "195\n",
        "32434253\n",
        "1170\n",
        "6568181\n",
        "348\n",
        "32510299\n",
        "393\n",
        "10220109\n",
        "196.8\n",
        "32509171\n",
        "588\n",
        "32509180\n",
        "1174.8\n",
        "2703295\n",
        "270\n",
        "1135180\n",
        "79\n",
        "32436181\n",
        "474\n",
        "31782148\n",
        "220\n",
        "14532313\n",
        "66\n",
        "31782223\n",
        "324\n",
        "27887062\n",
        "368\n",
        "2888086\n",
        "92\n",
        "21009497"
       ]
      },
      {
       "output_type": "stream",
       "stream": "stdout",
       "text": [
        "\n",
        "268\n",
        "22488395\n",
        "900\n",
        "1754581\n",
        "450\n",
        "22489203\n",
        "1350\n",
        "24098310\n",
        "1029\n",
        "10306842\n",
        "345\n",
        "24099043\n",
        "2052\n",
        "6703775\n",
        "396\n",
        "3953754\n",
        "198\n",
        "30454074\n",
        "2034\n",
        "30272793\n",
        "1029\n",
        "10323246\n",
        "90\n",
        "29763584\n",
        "328\n",
        "9674153\n",
        "239\n",
        "9815538\n",
        "478\n",
        "26730728\n",
        "699\n"
       ]
      },
      {
       "ename": "AttributeError",
       "evalue": "'NoneType' object has no attribute 'group'",
       "output_type": "pyerr",
       "traceback": [
        "\u001b[1;31m---------------------------------------------------------------------------\u001b[0m\n\u001b[1;31mAttributeError\u001b[0m                            Traceback (most recent call last)",
        "\u001b[1;32m<ipython-input-79-07210c53f778>\u001b[0m in \u001b[0;36m<module>\u001b[1;34m()\u001b[0m\n\u001b[0;32m     45\u001b[0m \u001b[0mbody\u001b[0m \u001b[1;33m=\u001b[0m \u001b[0mextract_body\u001b[0m\u001b[1;33m(\u001b[0m\u001b[0mrow\u001b[0m\u001b[1;33m)\u001b[0m\u001b[1;33m\u001b[0m\u001b[0m\n\u001b[0;32m     46\u001b[0m \u001b[0mm\u001b[0m \u001b[1;33m=\u001b[0m \u001b[0mre\u001b[0m\u001b[1;33m.\u001b[0m\u001b[0msearch\u001b[0m\u001b[1;33m(\u001b[0m\u001b[1;34mr'<div class=\"search_item_box.*pmid=\"(\\d+)\".*yhdprice=\"(\\d+)\"'\u001b[0m\u001b[1;33m,\u001b[0m \u001b[0mbody\u001b[0m\u001b[1;33m)\u001b[0m\u001b[1;33m\u001b[0m\u001b[0m\n\u001b[1;32m---> 47\u001b[1;33m \u001b[0mm\u001b[0m\u001b[1;33m.\u001b[0m\u001b[0mgroup\u001b[0m\u001b[1;33m(\u001b[0m\u001b[1;36m1\u001b[0m\u001b[1;33m)\u001b[0m\u001b[1;33m\u001b[0m\u001b[0m\n\u001b[0m",
        "\u001b[1;31mAttributeError\u001b[0m: 'NoneType' object has no attribute 'group'"
       ]
      }
     ],
     "prompt_number": 79
    },
    {
     "cell_type": "code",
     "collapsed": false,
     "input": [
      "z = 'mm'\n",
      "a = dict(a='he', b='jo' ,z=z)\n",
      "\n",
      "print(a)"
     ],
     "language": "python",
     "metadata": {},
     "outputs": [
      {
       "output_type": "stream",
       "stream": "stdout",
       "text": [
        "{'z': 'mm', 'b': 'jo', 'a': 'he'}\n"
       ]
      }
     ],
     "prompt_number": 81
    },
    {
     "cell_type": "code",
     "collapsed": false,
     "input": [
      "a = [\n",
      "{'t': 11, 's': '21'},\n",
      "{'t': 11, 's': '21'},\n",
      "]\n",
      "for aa in a:\n",
      "    aa['s'] = int(aa['s'])\n",
      "print(a)"
     ],
     "language": "python",
     "metadata": {},
     "outputs": [
      {
       "output_type": "stream",
       "stream": "stdout",
       "text": [
        "[{'t': 11, 's': 21}, {'t': 11, 's': 21}]\n"
       ]
      }
     ],
     "prompt_number": 82
    },
    {
     "cell_type": "code",
     "collapsed": false,
     "input": [
      "import re\n",
      "href = 'http://detail.tmall.com/item.htm?id=17928369987'\n",
      "if 'tmall' in href:\n",
      "    print('tmall')"
     ],
     "language": "python",
     "metadata": {},
     "outputs": [
      {
       "output_type": "stream",
       "stream": "stdout",
       "text": [
        "tmall\n"
       ]
      }
     ],
     "prompt_number": 86
    },
    {
     "cell_type": "code",
     "collapsed": false,
     "input": [],
     "language": "python",
     "metadata": {},
     "outputs": []
    }
   ],
   "metadata": {}
  }
 ]
}