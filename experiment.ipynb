{
 "metadata": {
  "name": "",
  "signature": "sha256:e97ad008d55ee2b08efc893c0471932a7ac76195cac0fa3cc40c4d2ea7782924"
 },
 "nbformat": 3,
 "nbformat_minor": 0,
 "worksheets": [
  {
   "cells": [
    {
     "cell_type": "code",
     "collapsed": false,
     "input": [
      "from pymongo import MongoClient\n",
      "\n",
      "p_item = MongoClient()['test'].product_item\n",
      "\n",
      "r = p_item.update({'product_id': 1111, \n",
      "                   'price': {'$ne':23}, #update only if: date is newer & price is different\n",
      "                   'update':{'$lt':1404489700000}\n",
      "                   },{'$set':{'price': 23, 'update':1404489700000}})\n",
      "\n",
      "if r['updatedExisting']:\n",
      "    print('has been changed')\n",
      "else:\n",
      "    print('no change')"
     ],
     "language": "python",
     "metadata": {},
     "outputs": [
      {
       "output_type": "stream",
       "stream": "stdout",
       "text": [
        "no change\n"
       ]
      }
     ],
     "prompt_number": 4
    },
    {
     "cell_type": "code",
     "collapsed": false,
     "input": [
      "from pymongo import MongoClient\n",
      "\n",
      "p_item = MongoClient()['test'].product_item\n",
      "\n",
      "r = p_item.find_and_modify({'product_id': 1111, \n",
      "                   'price': {'$ne':21}},{'$set':{'price': 21}})\n",
      "\n",
      "print(r)"
     ],
     "language": "python",
     "metadata": {},
     "outputs": [
      {
       "output_type": "stream",
       "stream": "stdout",
       "text": [
        "{'product_id': 1111, '_id': ObjectId('53bcd876ce7c89999ea3e96c'), 'price': 23}\n"
       ]
      }
     ],
     "prompt_number": 7
    },
    {
     "cell_type": "code",
     "collapsed": false,
     "input": [
      "from pymongo import MongoClient\n",
      "\n",
      "p_item = MongoClient()['test'].product_item\n",
      "oh = {'a':'a', 'b':'b'}\n",
      "ns = 'taobao'\n",
      "if ns == 'taobao':\n",
      "    ns = ['taobao', 'tmall']\n",
      "\n",
      "r = p_item.update({'source':'taobao'}, {'$set':{'price':21}}, upsert=True)\n"
     ],
     "language": "python",
     "metadata": {},
     "outputs": [],
     "prompt_number": 12
    },
    {
     "cell_type": "code",
     "collapsed": false,
     "input": [
      "from collections import namedtuple\n",
      "MyStruct = namedtuple('MyStruct', 'a b d')\n",
      "s = MyStruct(a=1, b={'c':2}, d=['hi'])\n",
      "print(s)\n",
      "print(s.a)"
     ],
     "language": "python",
     "metadata": {},
     "outputs": [
      {
       "output_type": "stream",
       "stream": "stdout",
       "text": [
        "MyStruct(a=1, b={'c': 2}, d=['hi'])\n",
        "1\n"
       ]
      }
     ],
     "prompt_number": 2
    },
    {
     "cell_type": "code",
     "collapsed": false,
     "input": [
      "class obj(object):\n",
      "    def __init__(self, d):\n",
      "        for a, b in d.items():\n",
      "            if isinstance(b, (list, tuple)):\n",
      "               setattr(self, a, [obj(x) if isinstance(x, dict) else x for x in b])\n",
      "            else:\n",
      "               setattr(self, a, obj(b) if isinstance(b, dict) else b)\n",
      "\n",
      "d = {'a':{'b':'c'}}\n",
      "x = obj(d)\n",
      "x.a.b"
     ],
     "language": "python",
     "metadata": {},
     "outputs": [
      {
       "metadata": {},
       "output_type": "pyout",
       "prompt_number": 3,
       "text": [
        "'c'"
       ]
      }
     ],
     "prompt_number": 3
    },
    {
     "cell_type": "code",
     "collapsed": false,
     "input": [
      "class Dictate(object):\n",
      "    \"\"\"Object view of a dict, updating the passed in dict when values are set\n",
      "    or deleted. \"Dictate\" the contents of a dict...: \"\"\"\n",
      "\n",
      "    def __init__(self, d):\n",
      "        # since __setattr__ is overridden, self.__dict = d doesn't work\n",
      "        object.__setattr__(self, '_Dictate__dict', d)\n",
      "\n",
      "    # Dictionary-like access / updates\n",
      "    def __getitem__(self, name):\n",
      "        value = self.__dict[name]\n",
      "        if isinstance(value, dict):  # recursively view sub-dicts as objects\n",
      "            value = Dictate(value)\n",
      "        return value\n",
      "\n",
      "    def __setitem__(self, name, value):\n",
      "        self.__dict[name] = value\n",
      "    def __delitem__(self, name):\n",
      "        del self.__dict[name]\n",
      "\n",
      "    # Object-like access / updates\n",
      "    def __getattr__(self, name):\n",
      "        return self[name]\n",
      "\n",
      "    def __setattr__(self, name, value):\n",
      "        self[name] = value\n",
      "    def __delattr__(self, name):\n",
      "        del self[name]\n",
      "\n",
      "    def __repr__(self):\n",
      "        return \"%s(%r)\" % (type(self).__name__, self.__dict)\n",
      "    def __str__(self):\n",
      "        return str(self.__dict)\n",
      "    \n",
      "d = {'a': {'b':21} , 1:2}\n",
      "dd = Dictate(d)\n",
      "dd.c = 2\n"
     ],
     "language": "python",
     "metadata": {},
     "outputs": [],
     "prompt_number": 11
    },
    {
     "cell_type": "code",
     "collapsed": false,
     "input": [
      "from pymongo import MongoClient\n",
      "prods = MongoClient('192.168.1.202')['etl-dev'].product_items\n",
      "\n",
      "query = prods.find({'reviews_count':{$gt:50}})\n",
      "for q in query:\n",
      "    source = q['source']\n",
      "    pid = q['product_id']"
     ],
     "language": "python",
     "metadata": {},
     "outputs": []
    },
    {
     "cell_type": "code",
     "collapsed": false,
     "input": [
      "a = 'a      c'\n",
      "import re\n",
      "a.split(' ')\n",
      "re.split(r'\\s+', a)"
     ],
     "language": "python",
     "metadata": {},
     "outputs": [
      {
       "metadata": {},
       "output_type": "pyout",
       "prompt_number": 2,
       "text": [
        "['a', 'c']"
       ]
      }
     ],
     "prompt_number": 2
    },
    {
     "cell_type": "code",
     "collapsed": false,
     "input": [
      "from pymongo import MongoClient\n",
      "p = MongoClient()['test'].blog\n",
      "a = p.find_one()\n",
      "print(a)\n",
      "p.update({}, {\"$unset\":{\"date\": 1}}, multi= True)"
     ],
     "language": "python",
     "metadata": {},
     "outputs": [
      {
       "output_type": "stream",
       "stream": "stdout",
       "text": [
        "{'_id': ObjectId('5391377d0ec757387aacb911'), 'day': 'monday'}\n"
       ]
      },
      {
       "metadata": {},
       "output_type": "pyout",
       "prompt_number": 7,
       "text": [
        "{'ok': 1, 'updatedExisting': True, 'nModified': 3, 'n': 8}"
       ]
      }
     ],
     "prompt_number": 7
    },
    {
     "cell_type": "code",
     "collapsed": false,
     "input": [],
     "language": "python",
     "metadata": {},
     "outputs": []
    }
   ],
   "metadata": {}
  }
 ]
}