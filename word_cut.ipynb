{
 "metadata": {
  "name": "",
  "signature": "sha256:65efb69c0d5018bb0897c6af18a7e69db2e498bd676f1b7c3f8b6f653fab45ba"
 },
 "nbformat": 3,
 "nbformat_minor": 0,
 "worksheets": [
  {
   "cells": [
    {
     "cell_type": "code",
     "collapsed": false,
     "input": [
      "import re\n",
      "re_han = re.compile(\"([\\u4E00-\\u9FA5a-zA-Z0-9+#&\\._]+)\")\n",
      "re_split = re.compile(\"(\\r\\n|\\s)\")\n",
      "sentence = '\u8fd9\u662f\u4e00\u9996\u7b80\u5355\u7684\u5c0f\u60c5\u6b4c\uff0c\u3000\u6211\u5728\u5fc3\u4e2d\u4e0d\u505c\u5730\u5565'\n",
      "blocks = re_split.split(sentence)\n",
      "print(blocks)"
     ],
     "language": "python",
     "metadata": {},
     "outputs": [
      {
       "output_type": "stream",
       "stream": "stdout",
       "text": [
        "['\u8fd9\u662f\u4e00\u9996\u7b80\u5355\u7684\u5c0f\u60c5\u6b4c\uff0c', '\\u3000', '\u6211\u5728\u5fc3\u4e2d\u4e0d\u505c\u5730\u5565']\n"
       ]
      }
     ],
     "prompt_number": 16
    },
    {
     "cell_type": "code",
     "collapsed": false,
     "input": [
      "a = \"\"\n",
      "b = \"\"\n",
      "print(id(a), id(b))\n",
      "a is b\n",
      "c = 'hello'\n",
      "d = str(c)\n",
      "print(c is d)"
     ],
     "language": "python",
     "metadata": {},
     "outputs": [
      {
       "output_type": "stream",
       "stream": "stdout",
       "text": [
        "140043584350280 140043584350280\n",
        "True\n"
       ]
      }
     ],
     "prompt_number": 22
    },
    {
     "cell_type": "code",
     "collapsed": false,
     "input": [
      "from colle"
     ],
     "language": "python",
     "metadata": {},
     "outputs": [],
     "prompt_number": 15
    },
    {
     "cell_type": "code",
     "collapsed": false,
     "input": [],
     "language": "python",
     "metadata": {},
     "outputs": []
    }
   ],
   "metadata": {}
  }
 ]
}